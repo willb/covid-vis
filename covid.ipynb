{
 "cells": [
  {
   "cell_type": "code",
   "execution_count": 1,
   "metadata": {},
   "outputs": [
    {
     "data": {
      "text/plain": [
       "DataTransformerRegistry.enable('json')"
      ]
     },
     "execution_count": 1,
     "metadata": {},
     "output_type": "execute_result"
    }
   ],
   "source": [
    "import pandas as pd\n",
    "import altair as alt\n",
    "alt.data_transformers.enable('json')"
   ]
  },
  {
   "cell_type": "code",
   "execution_count": 2,
   "metadata": {},
   "outputs": [],
   "source": [
    "df=pd.read_csv(\"https://covidtracking.com/api/v1/states/daily.csv\")"
   ]
  },
  {
   "cell_type": "markdown",
   "metadata": {},
   "source": [
    "# Basic data manipulation\n",
    "\n",
    "We're going to do a couple of things to the data from [covidtracking.com](https://covidtracking.com/).  \n",
    "\n",
    "We're first going to reformat the dates to add hyphens between the year, month, and day, so `20200228` becomes `2020-02-28`.  We'll then `melt` the data frame so that each observation is in its own row, so that (for example) `state, date, positive, negative, hospitalized, icu` becomes `state, date, observation_type, observation_value`, where `observation_type` is one of `positive`, `negative`, `hospitalized`, or `icu`."
   ]
  },
  {
   "cell_type": "code",
   "execution_count": 11,
   "metadata": {},
   "outputs": [],
   "source": [
    "def datemunge(di):\n",
    "    d = str(di)\n",
    "    return \"%s-%s-%s\" % (d[0:4], d[4:6], d[6:8])\n",
    "\n",
    "df[\"date\"] = df[\"date\"].apply(datemunge)"
   ]
  },
  {
   "cell_type": "code",
   "execution_count": 95,
   "metadata": {},
   "outputs": [],
   "source": [
    "cleaned = pd.melt(df, \n",
    "                  id_vars=['date', 'state'], \n",
    "                  value_vars=list(set(df.columns) - set(['date', 'state'])), \n",
    "                  value_name=\"cases\",\n",
    "                  var_name=\"case type\")"
   ]
  },
  {
   "cell_type": "code",
   "execution_count": 96,
   "metadata": {},
   "outputs": [
    {
     "data": {
      "text/html": [
       "<div>\n",
       "<style scoped>\n",
       "    .dataframe tbody tr th:only-of-type {\n",
       "        vertical-align: middle;\n",
       "    }\n",
       "\n",
       "    .dataframe tbody tr th {\n",
       "        vertical-align: top;\n",
       "    }\n",
       "\n",
       "    .dataframe thead th {\n",
       "        text-align: right;\n",
       "    }\n",
       "</style>\n",
       "<table border=\"1\" class=\"dataframe\">\n",
       "  <thead>\n",
       "    <tr style=\"text-align: right;\">\n",
       "      <th></th>\n",
       "      <th>date</th>\n",
       "      <th>state</th>\n",
       "      <th>case type</th>\n",
       "      <th>cases</th>\n",
       "    </tr>\n",
       "  </thead>\n",
       "  <tbody>\n",
       "    <tr>\n",
       "      <th>0</th>\n",
       "      <td>2020-04-09</td>\n",
       "      <td>AK</td>\n",
       "      <td>onVentilatorCurrently</td>\n",
       "      <td>NaN</td>\n",
       "    </tr>\n",
       "    <tr>\n",
       "      <th>1</th>\n",
       "      <td>2020-04-09</td>\n",
       "      <td>AL</td>\n",
       "      <td>onVentilatorCurrently</td>\n",
       "      <td>NaN</td>\n",
       "    </tr>\n",
       "    <tr>\n",
       "      <th>2</th>\n",
       "      <td>2020-04-09</td>\n",
       "      <td>AR</td>\n",
       "      <td>onVentilatorCurrently</td>\n",
       "      <td>31</td>\n",
       "    </tr>\n",
       "    <tr>\n",
       "      <th>3</th>\n",
       "      <td>2020-04-09</td>\n",
       "      <td>AS</td>\n",
       "      <td>onVentilatorCurrently</td>\n",
       "      <td>NaN</td>\n",
       "    </tr>\n",
       "    <tr>\n",
       "      <th>4</th>\n",
       "      <td>2020-04-09</td>\n",
       "      <td>AZ</td>\n",
       "      <td>onVentilatorCurrently</td>\n",
       "      <td>NaN</td>\n",
       "    </tr>\n",
       "    <tr>\n",
       "      <th>...</th>\n",
       "      <td>...</td>\n",
       "      <td>...</td>\n",
       "      <td>...</td>\n",
       "      <td>...</td>\n",
       "    </tr>\n",
       "    <tr>\n",
       "      <th>44707</th>\n",
       "      <td>2020-03-02</td>\n",
       "      <td>WA</td>\n",
       "      <td>deathIncrease</td>\n",
       "      <td>3</td>\n",
       "    </tr>\n",
       "    <tr>\n",
       "      <th>44708</th>\n",
       "      <td>2020-03-01</td>\n",
       "      <td>RI</td>\n",
       "      <td>deathIncrease</td>\n",
       "      <td>NaN</td>\n",
       "    </tr>\n",
       "    <tr>\n",
       "      <th>44709</th>\n",
       "      <td>2020-03-01</td>\n",
       "      <td>WA</td>\n",
       "      <td>deathIncrease</td>\n",
       "      <td>3</td>\n",
       "    </tr>\n",
       "    <tr>\n",
       "      <th>44710</th>\n",
       "      <td>2020-02-29</td>\n",
       "      <td>WA</td>\n",
       "      <td>deathIncrease</td>\n",
       "      <td>1</td>\n",
       "    </tr>\n",
       "    <tr>\n",
       "      <th>44711</th>\n",
       "      <td>2020-02-28</td>\n",
       "      <td>WA</td>\n",
       "      <td>deathIncrease</td>\n",
       "      <td>NaN</td>\n",
       "    </tr>\n",
       "  </tbody>\n",
       "</table>\n",
       "<p>44712 rows × 4 columns</p>\n",
       "</div>"
      ],
      "text/plain": [
       "             date state              case type cases\n",
       "0      2020-04-09    AK  onVentilatorCurrently   NaN\n",
       "1      2020-04-09    AL  onVentilatorCurrently   NaN\n",
       "2      2020-04-09    AR  onVentilatorCurrently    31\n",
       "3      2020-04-09    AS  onVentilatorCurrently   NaN\n",
       "4      2020-04-09    AZ  onVentilatorCurrently   NaN\n",
       "...           ...   ...                    ...   ...\n",
       "44707  2020-03-02    WA          deathIncrease     3\n",
       "44708  2020-03-01    RI          deathIncrease   NaN\n",
       "44709  2020-03-01    WA          deathIncrease     3\n",
       "44710  2020-02-29    WA          deathIncrease     1\n",
       "44711  2020-02-28    WA          deathIncrease   NaN\n",
       "\n",
       "[44712 rows x 4 columns]"
      ]
     },
     "execution_count": 96,
     "metadata": {},
     "output_type": "execute_result"
    }
   ],
   "source": [
    "cleaned"
   ]
  },
  {
   "cell_type": "markdown",
   "metadata": {},
   "source": [
    "# Per-state results"
   ]
  },
  {
   "cell_type": "code",
   "execution_count": 110,
   "metadata": {},
   "outputs": [
    {
     "data": {
      "text/html": [
       "\n",
       "<div id=\"altair-viz-628c36b5c1c748de8532b81ab19c6c42\"></div>\n",
       "<script type=\"text/javascript\">\n",
       "  (function(spec, embedOpt){\n",
       "    let outputDiv = document.currentScript.previousElementSibling;\n",
       "    if (outputDiv.id !== \"altair-viz-628c36b5c1c748de8532b81ab19c6c42\") {\n",
       "      outputDiv = document.getElementById(\"altair-viz-628c36b5c1c748de8532b81ab19c6c42\");\n",
       "    }\n",
       "    const paths = {\n",
       "      \"vega\": \"https://cdn.jsdelivr.net/npm//vega@5?noext\",\n",
       "      \"vega-lib\": \"https://cdn.jsdelivr.net/npm//vega-lib?noext\",\n",
       "      \"vega-lite\": \"https://cdn.jsdelivr.net/npm//vega-lite@4.8.1?noext\",\n",
       "      \"vega-embed\": \"https://cdn.jsdelivr.net/npm//vega-embed@6?noext\",\n",
       "    };\n",
       "\n",
       "    function loadScript(lib) {\n",
       "      return new Promise(function(resolve, reject) {\n",
       "        var s = document.createElement('script');\n",
       "        s.src = paths[lib];\n",
       "        s.async = true;\n",
       "        s.onload = () => resolve(paths[lib]);\n",
       "        s.onerror = () => reject(`Error loading script: ${paths[lib]}`);\n",
       "        document.getElementsByTagName(\"head\")[0].appendChild(s);\n",
       "      });\n",
       "    }\n",
       "\n",
       "    function showError(err) {\n",
       "      outputDiv.innerHTML = `<div class=\"error\" style=\"color:red;\">${err}</div>`;\n",
       "      throw err;\n",
       "    }\n",
       "\n",
       "    function displayChart(vegaEmbed) {\n",
       "      vegaEmbed(outputDiv, spec, embedOpt)\n",
       "        .catch(err => showError(`Javascript Error: ${err.message}<br>This usually means there's a typo in your chart specification. See the javascript console for the full traceback.`));\n",
       "    }\n",
       "\n",
       "    if(typeof define === \"function\" && define.amd) {\n",
       "      requirejs.config({paths});\n",
       "      require([\"vega-embed\"], displayChart, err => showError(`Error loading script: ${err.message}`));\n",
       "    } else if (typeof vegaEmbed === \"function\") {\n",
       "      displayChart(vegaEmbed);\n",
       "    } else {\n",
       "      loadScript(\"vega\")\n",
       "        .then(() => loadScript(\"vega-lite\"))\n",
       "        .then(() => loadScript(\"vega-embed\"))\n",
       "        .catch(showError)\n",
       "        .then(() => displayChart(vegaEmbed));\n",
       "    }\n",
       "  })({\"config\": {\"view\": {\"continuousWidth\": 400, \"continuousHeight\": 300}}, \"data\": {\"url\": \"altair-data-c5d4904d8469499bb7c428b19547abff.json\", \"format\": {\"type\": \"json\"}}, \"mark\": \"line\", \"encoding\": {\"color\": {\"type\": \"nominal\", \"field\": \"case type\", \"sort\": {\"field\": \"cases\", \"op\": \"max\", \"order\": \"descending\"}}, \"tooltip\": [{\"type\": \"nominal\", \"field\": \"date\"}, {\"type\": \"nominal\", \"field\": \"state\"}, {\"type\": \"nominal\", \"field\": \"case type\"}, {\"type\": \"quantitative\", \"field\": \"cases\"}], \"x\": {\"type\": \"nominal\", \"field\": \"date\"}, \"y\": {\"type\": \"quantitative\", \"field\": \"cases\", \"scale\": {\"type\": \"log\"}}}, \"transform\": [{\"filter\": \"(datum.state === 'WY')\"}, {\"filter\": \"(datum.cases > 0)\"}, {\"filter\": {\"field\": \"case type\", \"oneOf\": [\"death\", \"positive\", \"hospitalizedCumulative\", \"hospitalizedCurrently\", \"inIcuCurrently\", \"inIcuCumulative\"]}}], \"$schema\": \"https://vega.github.io/schema/vega-lite/v4.8.1.json\"}, {\"mode\": \"vega-lite\"});\n",
       "</script>"
      ],
      "text/plain": [
       "alt.Chart(...)"
      ]
     },
     "execution_count": 110,
     "metadata": {},
     "output_type": "execute_result"
    }
   ],
   "source": [
    "def cases_for_state(state, show_points=False):\n",
    "    case_types = ['death', 'positive', 'hospitalizedCumulative', 'hospitalizedCurrently', 'inIcuCurrently', 'inIcuCumulative']\n",
    "    chart = alt.Chart(cleaned).\\\n",
    "                encode(alt.X(\"date:N\"), \n",
    "                       alt.Y(\"cases\", scale=alt.Scale(type=\"log\")), \n",
    "                       alt.Color(\"case type\", \n",
    "                                 sort=alt.EncodingSortField(field=\"cases\", \n",
    "                                                            order=\"descending\", \n",
    "                                                            op=\"max\")),\n",
    "                       tooltip=['date', 'state', 'case type', 'cases']).\\\n",
    "                transform_filter(alt.datum.state == state).\\\n",
    "                transform_filter(alt.datum.cases > 0).\\\n",
    "                transform_filter(alt.FieldOneOfPredicate(\"case type\", case_types))\n",
    "    \n",
    "    return chart.mark_line() + chart.mark_point() if show_points else chart.mark_line()\n",
    "\n",
    "cases_for_state(\"WY\")\n"
   ]
  },
  {
   "cell_type": "code",
   "execution_count": 60,
   "metadata": {},
   "outputs": [
    {
     "data": {
      "text/html": [
       "\n",
       "<div id=\"altair-viz-509f8f5d1def4277bc3d755f290dcbec\"></div>\n",
       "<script type=\"text/javascript\">\n",
       "  (function(spec, embedOpt){\n",
       "    let outputDiv = document.currentScript.previousElementSibling;\n",
       "    if (outputDiv.id !== \"altair-viz-509f8f5d1def4277bc3d755f290dcbec\") {\n",
       "      outputDiv = document.getElementById(\"altair-viz-509f8f5d1def4277bc3d755f290dcbec\");\n",
       "    }\n",
       "    const paths = {\n",
       "      \"vega\": \"https://cdn.jsdelivr.net/npm//vega@5?noext\",\n",
       "      \"vega-lib\": \"https://cdn.jsdelivr.net/npm//vega-lib?noext\",\n",
       "      \"vega-lite\": \"https://cdn.jsdelivr.net/npm//vega-lite@4.8.1?noext\",\n",
       "      \"vega-embed\": \"https://cdn.jsdelivr.net/npm//vega-embed@6?noext\",\n",
       "    };\n",
       "\n",
       "    function loadScript(lib) {\n",
       "      return new Promise(function(resolve, reject) {\n",
       "        var s = document.createElement('script');\n",
       "        s.src = paths[lib];\n",
       "        s.async = true;\n",
       "        s.onload = () => resolve(paths[lib]);\n",
       "        s.onerror = () => reject(`Error loading script: ${paths[lib]}`);\n",
       "        document.getElementsByTagName(\"head\")[0].appendChild(s);\n",
       "      });\n",
       "    }\n",
       "\n",
       "    function showError(err) {\n",
       "      outputDiv.innerHTML = `<div class=\"error\" style=\"color:red;\">${err}</div>`;\n",
       "      throw err;\n",
       "    }\n",
       "\n",
       "    function displayChart(vegaEmbed) {\n",
       "      vegaEmbed(outputDiv, spec, embedOpt)\n",
       "        .catch(err => showError(`Javascript Error: ${err.message}<br>This usually means there's a typo in your chart specification. See the javascript console for the full traceback.`));\n",
       "    }\n",
       "\n",
       "    if(typeof define === \"function\" && define.amd) {\n",
       "      requirejs.config({paths});\n",
       "      require([\"vega-embed\"], displayChart, err => showError(`Error loading script: ${err.message}`));\n",
       "    } else if (typeof vegaEmbed === \"function\") {\n",
       "      displayChart(vegaEmbed);\n",
       "    } else {\n",
       "      loadScript(\"vega\")\n",
       "        .then(() => loadScript(\"vega-lite\"))\n",
       "        .then(() => loadScript(\"vega-embed\"))\n",
       "        .catch(showError)\n",
       "        .then(() => displayChart(vegaEmbed));\n",
       "    }\n",
       "  })({\"config\": {\"view\": {\"continuousWidth\": 400, \"continuousHeight\": 300}}, \"layer\": [{\"mark\": {\"type\": \"line\", \"color\": \"orange\"}, \"encoding\": {\"x\": {\"type\": \"nominal\", \"field\": \"date\"}, \"y\": {\"type\": \"quantitative\", \"field\": \"positive\", \"scale\": {\"type\": \"log\"}}}, \"transform\": [{\"filter\": \"(datum.state === 'WI')\"}, {\"filter\": \"(datum.positive > 0)\"}]}, {\"mark\": {\"type\": \"line\", \"color\": \"red\"}, \"encoding\": {\"x\": {\"type\": \"nominal\", \"field\": \"date\"}, \"y\": {\"type\": \"quantitative\", \"field\": \"hospitalizedCumulative\", \"scale\": {\"type\": \"log\"}}}, \"transform\": [{\"filter\": \"(datum.state === 'WI')\"}, {\"filter\": \"(datum.hospitalizedCumulative > 0)\"}]}, {\"mark\": {\"type\": \"line\", \"color\": \"darkred\"}, \"encoding\": {\"x\": {\"type\": \"nominal\", \"field\": \"date\"}, \"y\": {\"type\": \"quantitative\", \"field\": \"inIcuCumulative\", \"scale\": {\"type\": \"log\"}}}, \"transform\": [{\"filter\": \"(datum.state === 'WI')\"}, {\"filter\": \"(datum.hospitalizedCumulative > 0)\"}]}, {\"mark\": {\"type\": \"line\", \"color\": \"black\"}, \"encoding\": {\"x\": {\"type\": \"nominal\", \"field\": \"date\"}, \"y\": {\"type\": \"quantitative\", \"field\": \"death\", \"scale\": {\"type\": \"log\"}}}, \"transform\": [{\"filter\": \"(datum.state === 'WI')\"}, {\"filter\": \"(datum.death > 0)\"}]}], \"data\": {\"url\": \"altair-data-a4dc29e8a508ec8b97db95b1260556ee.json\", \"format\": {\"type\": \"json\"}}, \"$schema\": \"https://vega.github.io/schema/vega-lite/v4.8.1.json\"}, {\"mode\": \"vega-lite\"});\n",
       "</script>"
      ],
      "text/plain": [
       "alt.LayerChart(...)"
      ]
     },
     "execution_count": 60,
     "metadata": {},
     "output_type": "execute_result"
    }
   ],
   "source": [
    "state = \"WI\"\n",
    "\n",
    "base = alt.Chart(df).encode(alt.X(\"date:N\")) \n",
    "\n",
    "alt.layer(\n",
    "    base.mark_line(color=\"orange\").encode(alt.Y(\"positive\", scale=alt.Scale(type=\"log\"))).transform_filter(alt.datum.state == state).transform_filter(alt.datum.positive > 0),\n",
    "    base.mark_line(color=\"red\").encode(alt.Y(\"hospitalizedCumulative\", scale=alt.Scale(type=\"log\"))).transform_filter(alt.datum.state == state).transform_filter(alt.datum.hospitalizedCumulative > 0),\n",
    "    base.mark_line(color=\"darkred\").encode(alt.Y(\"inIcuCumulative\", scale=alt.Scale(type=\"log\"))).transform_filter(alt.datum.state == state).transform_filter(alt.datum.hospitalizedCumulative > 0),\n",
    "    base.mark_line(color=\"black\").encode(alt.Y(\"death\", scale=alt.Scale(type=\"log\"))).transform_filter(alt.datum.state == state).transform_filter(alt.datum.death > 0)\n",
    ")\n"
   ]
  },
  {
   "cell_type": "code",
   "execution_count": 24,
   "metadata": {},
   "outputs": [
    {
     "data": {
      "text/html": [
       "\n",
       "<div id=\"altair-viz-cb789383882b491b99fc29e54a5c1b35\"></div>\n",
       "<script type=\"text/javascript\">\n",
       "  (function(spec, embedOpt){\n",
       "    let outputDiv = document.currentScript.previousElementSibling;\n",
       "    if (outputDiv.id !== \"altair-viz-cb789383882b491b99fc29e54a5c1b35\") {\n",
       "      outputDiv = document.getElementById(\"altair-viz-cb789383882b491b99fc29e54a5c1b35\");\n",
       "    }\n",
       "    const paths = {\n",
       "      \"vega\": \"https://cdn.jsdelivr.net/npm//vega@5?noext\",\n",
       "      \"vega-lib\": \"https://cdn.jsdelivr.net/npm//vega-lib?noext\",\n",
       "      \"vega-lite\": \"https://cdn.jsdelivr.net/npm//vega-lite@4.8.1?noext\",\n",
       "      \"vega-embed\": \"https://cdn.jsdelivr.net/npm//vega-embed@6?noext\",\n",
       "    };\n",
       "\n",
       "    function loadScript(lib) {\n",
       "      return new Promise(function(resolve, reject) {\n",
       "        var s = document.createElement('script');\n",
       "        s.src = paths[lib];\n",
       "        s.async = true;\n",
       "        s.onload = () => resolve(paths[lib]);\n",
       "        s.onerror = () => reject(`Error loading script: ${paths[lib]}`);\n",
       "        document.getElementsByTagName(\"head\")[0].appendChild(s);\n",
       "      });\n",
       "    }\n",
       "\n",
       "    function showError(err) {\n",
       "      outputDiv.innerHTML = `<div class=\"error\" style=\"color:red;\">${err}</div>`;\n",
       "      throw err;\n",
       "    }\n",
       "\n",
       "    function displayChart(vegaEmbed) {\n",
       "      vegaEmbed(outputDiv, spec, embedOpt)\n",
       "        .catch(err => showError(`Javascript Error: ${err.message}<br>This usually means there's a typo in your chart specification. See the javascript console for the full traceback.`));\n",
       "    }\n",
       "\n",
       "    if(typeof define === \"function\" && define.amd) {\n",
       "      requirejs.config({paths});\n",
       "      require([\"vega-embed\"], displayChart, err => showError(`Error loading script: ${err.message}`));\n",
       "    } else if (typeof vegaEmbed === \"function\") {\n",
       "      displayChart(vegaEmbed);\n",
       "    } else {\n",
       "      loadScript(\"vega\")\n",
       "        .then(() => loadScript(\"vega-lite\"))\n",
       "        .then(() => loadScript(\"vega-embed\"))\n",
       "        .catch(showError)\n",
       "        .then(() => displayChart(vegaEmbed));\n",
       "    }\n",
       "  })({\"config\": {\"view\": {\"continuousWidth\": 400, \"continuousHeight\": 300}}, \"data\": {\"url\": \"altair-data-e41d9c04766a5d2f44e4f55658e83ad2.json\", \"format\": {\"type\": \"json\"}}, \"mark\": \"line\", \"encoding\": {\"color\": {\"type\": \"nominal\", \"field\": \"state\", \"sort\": {\"field\": \"positive\", \"op\": \"max\", \"order\": \"descending\"}}, \"x\": {\"type\": \"nominal\", \"field\": \"date\"}, \"y\": {\"type\": \"quantitative\", \"field\": \"positive\", \"scale\": {\"type\": \"log\"}}}, \"$schema\": \"https://vega.github.io/schema/vega-lite/v4.8.1.json\"}, {\"mode\": \"vega-lite\"});\n",
       "</script>"
      ],
      "text/plain": [
       "alt.Chart(...)"
      ]
     },
     "execution_count": 24,
     "metadata": {},
     "output_type": "execute_result"
    }
   ],
   "source": [
    "chart = alt.Chart(df[df[\"positive\"]>0]).mark_line().encode(alt.X(\"date:N\"), \n",
    "                                 alt.Y(\"positive\", scale=alt.Scale(type=\"log\")),\n",
    "                                 color=alt.Color(\"state\", sort=alt.EncodingSortField(field=\"positive\", order=\"descending\", op=\"max\")))\n",
    "\n",
    "chart"
   ]
  },
  {
   "cell_type": "code",
   "execution_count": 98,
   "metadata": {},
   "outputs": [
    {
     "data": {
      "text/html": [
       "\n",
       "<div id=\"altair-viz-ce543d015c2446689df5df5c99f7a94e\"></div>\n",
       "<script type=\"text/javascript\">\n",
       "  (function(spec, embedOpt){\n",
       "    let outputDiv = document.currentScript.previousElementSibling;\n",
       "    if (outputDiv.id !== \"altair-viz-ce543d015c2446689df5df5c99f7a94e\") {\n",
       "      outputDiv = document.getElementById(\"altair-viz-ce543d015c2446689df5df5c99f7a94e\");\n",
       "    }\n",
       "    const paths = {\n",
       "      \"vega\": \"https://cdn.jsdelivr.net/npm//vega@5?noext\",\n",
       "      \"vega-lib\": \"https://cdn.jsdelivr.net/npm//vega-lib?noext\",\n",
       "      \"vega-lite\": \"https://cdn.jsdelivr.net/npm//vega-lite@4.8.1?noext\",\n",
       "      \"vega-embed\": \"https://cdn.jsdelivr.net/npm//vega-embed@6?noext\",\n",
       "    };\n",
       "\n",
       "    function loadScript(lib) {\n",
       "      return new Promise(function(resolve, reject) {\n",
       "        var s = document.createElement('script');\n",
       "        s.src = paths[lib];\n",
       "        s.async = true;\n",
       "        s.onload = () => resolve(paths[lib]);\n",
       "        s.onerror = () => reject(`Error loading script: ${paths[lib]}`);\n",
       "        document.getElementsByTagName(\"head\")[0].appendChild(s);\n",
       "      });\n",
       "    }\n",
       "\n",
       "    function showError(err) {\n",
       "      outputDiv.innerHTML = `<div class=\"error\" style=\"color:red;\">${err}</div>`;\n",
       "      throw err;\n",
       "    }\n",
       "\n",
       "    function displayChart(vegaEmbed) {\n",
       "      vegaEmbed(outputDiv, spec, embedOpt)\n",
       "        .catch(err => showError(`Javascript Error: ${err.message}<br>This usually means there's a typo in your chart specification. See the javascript console for the full traceback.`));\n",
       "    }\n",
       "\n",
       "    if(typeof define === \"function\" && define.amd) {\n",
       "      requirejs.config({paths});\n",
       "      require([\"vega-embed\"], displayChart, err => showError(`Error loading script: ${err.message}`));\n",
       "    } else if (typeof vegaEmbed === \"function\") {\n",
       "      displayChart(vegaEmbed);\n",
       "    } else {\n",
       "      loadScript(\"vega\")\n",
       "        .then(() => loadScript(\"vega-lite\"))\n",
       "        .then(() => loadScript(\"vega-embed\"))\n",
       "        .catch(showError)\n",
       "        .then(() => displayChart(vegaEmbed));\n",
       "    }\n",
       "  })({\"config\": {\"view\": {\"continuousWidth\": 400, \"continuousHeight\": 300}}, \"vconcat\": [{\"mark\": \"line\", \"encoding\": {\"color\": {\"type\": \"nominal\", \"field\": \"state\", \"sort\": {\"field\": \"positive\", \"op\": \"max\", \"order\": \"descending\"}}, \"x\": {\"type\": \"nominal\", \"field\": \"date\", \"scale\": {\"domain\": [\"2020-02-28\", \"2020-02-29\", \"2020-03-01\", \"2020-03-02\", \"2020-03-03\", \"2020-03-04\", \"2020-03-05\", \"2020-03-06\", \"2020-03-07\", \"2020-03-08\", \"2020-03-09\", \"2020-03-10\", \"2020-03-11\", \"2020-03-12\", \"2020-03-13\", \"2020-03-14\", \"2020-03-15\", \"2020-03-16\", \"2020-03-17\", \"2020-03-18\", \"2020-03-19\", \"2020-03-20\", \"2020-03-21\", \"2020-03-22\", \"2020-03-23\", \"2020-03-24\", \"2020-03-25\", \"2020-03-26\", \"2020-03-27\", \"2020-03-28\", \"2020-03-29\", \"2020-03-30\", \"2020-03-31\", \"2020-04-01\", \"2020-04-02\", \"2020-04-03\", \"2020-04-04\", \"2020-04-05\", \"2020-04-06\", \"2020-04-07\", \"2020-04-08\", \"2020-04-09\"]}}, \"y\": {\"type\": \"quantitative\", \"field\": \"positive\", \"scale\": {\"type\": \"log\"}}}, \"resolve\": {\"axis\": {\"x\": \"shared\"}, \"scale\": {\"x\": \"shared\"}}, \"transform\": [{\"filter\": \"(datum.positive > 0)\"}, {\"filter\": \"(datum.positive > 0)\"}]}, {\"mark\": \"line\", \"encoding\": {\"color\": {\"type\": \"nominal\", \"field\": \"state\", \"sort\": {\"field\": \"positive\", \"op\": \"max\", \"order\": \"descending\"}}, \"x\": {\"type\": \"nominal\", \"field\": \"date\", \"scale\": {\"domain\": [\"2020-02-28\", \"2020-02-29\", \"2020-03-01\", \"2020-03-02\", \"2020-03-03\", \"2020-03-04\", \"2020-03-05\", \"2020-03-06\", \"2020-03-07\", \"2020-03-08\", \"2020-03-09\", \"2020-03-10\", \"2020-03-11\", \"2020-03-12\", \"2020-03-13\", \"2020-03-14\", \"2020-03-15\", \"2020-03-16\", \"2020-03-17\", \"2020-03-18\", \"2020-03-19\", \"2020-03-20\", \"2020-03-21\", \"2020-03-22\", \"2020-03-23\", \"2020-03-24\", \"2020-03-25\", \"2020-03-26\", \"2020-03-27\", \"2020-03-28\", \"2020-03-29\", \"2020-03-30\", \"2020-03-31\", \"2020-04-01\", \"2020-04-02\", \"2020-04-03\", \"2020-04-04\", \"2020-04-05\", \"2020-04-06\", \"2020-04-07\", \"2020-04-08\", \"2020-04-09\"]}}, \"y\": {\"type\": \"quantitative\", \"field\": \"hospitalized\", \"scale\": {\"type\": \"log\"}}}, \"resolve\": {\"axis\": {\"x\": \"shared\"}, \"scale\": {\"x\": \"shared\"}}, \"transform\": [{\"filter\": \"(datum.positive > 0)\"}, {\"filter\": \"(datum.hospitalized > 0)\"}]}], \"data\": {\"url\": \"altair-data-a4dc29e8a508ec8b97db95b1260556ee.json\", \"format\": {\"type\": \"json\"}}, \"$schema\": \"https://vega.github.io/schema/vega-lite/v4.8.1.json\"}, {\"mode\": \"vega-lite\"});\n",
       "</script>"
      ],
      "text/plain": [
       "alt.VConcatChart(...)"
      ]
     },
     "execution_count": 98,
     "metadata": {},
     "output_type": "execute_result"
    }
   ],
   "source": [
    "domain = df[\"date\"].sort_values(ascending=True).unique()\n",
    "\n",
    "chart = alt.Chart(df).mark_line().encode(\n",
    "    alt.X(\"date:N\", scale=alt.Scale(domain=domain)), \n",
    "    color=alt.Color(\"state\", sort=alt.EncodingSortField(field=\"positive\", order=\"descending\", op=\"max\"))).transform_filter(alt.datum.positive > 0).resolve_axis(x=\"shared\")\n",
    "    \n",
    "\n",
    "alt.vconcat(chart.encode(alt.Y(\"positive\", scale=alt.Scale(type=\"log\"))).transform_filter(alt.datum.positive > 0).resolve_scale(x=\"shared\"), chart.encode(alt.Y(\"hospitalized\", scale=alt.Scale(type=\"log\"))).transform_filter(alt.datum.hospitalized > 0).resolve_scale(x=\"shared\"))\n"
   ]
  },
  {
   "cell_type": "code",
   "execution_count": null,
   "metadata": {},
   "outputs": [],
   "source": []
  }
 ],
 "metadata": {
  "kernelspec": {
   "display_name": "Python 3",
   "language": "python",
   "name": "python3"
  },
  "language_info": {
   "codemirror_mode": {
    "name": "ipython",
    "version": 3
   },
   "file_extension": ".py",
   "mimetype": "text/x-python",
   "name": "python",
   "nbconvert_exporter": "python",
   "pygments_lexer": "ipython3",
   "version": "3.7.5"
  }
 },
 "nbformat": 4,
 "nbformat_minor": 2
}
